{
 "cells": [
  {
   "cell_type": "markdown",
   "metadata": {},
   "source": [
    "## Using the provided listenbrainz_model.py file"
   ]
  },
  {
   "cell_type": "code",
   "execution_count": 6,
   "metadata": {},
   "outputs": [
    {
     "name": "stdout",
     "output_type": "stream",
     "text": [
      "Data matrix shape: (9087, 163209)\n"
     ]
    },
    {
     "data": {
      "application/vnd.jupyter.widget-view+json": {
       "model_id": "c254b7eb66a049f2a7dc701982774ef4",
       "version_major": 2,
       "version_minor": 0
      },
      "text/plain": [
       "  0%|          | 0/15 [00:00<?, ?it/s]"
      ]
     },
     "metadata": {},
     "output_type": "display_data"
    },
    {
     "name": "stdout",
     "output_type": "stream",
     "text": [
      "Model training complete!\n",
      "Using target artist MBID: 00006766-a163-44eb-b6f1-1d82973b95ec\n",
      "                             Artist MBID                 Artist Name     Score\n",
      "0   00006766-a163-44eb-b6f1-1d82973b95ec                       Heron  1.000000\n",
      "1   488bc172-1e96-43ac-874f-2aa6c68a8d5f        The Depth Beneath Us  0.977081\n",
      "2   2255a6ed-3149-4f1c-a127-ccf6f320e63b            Deer Park Ranger  0.975456\n",
      "3   7dec8f78-33d5-42d4-95ca-3a1b314b591c            A River Crossing  0.975456\n",
      "4   28d18fb2-80d1-4ebc-8b2a-491458b35161                       Waves  0.975455\n",
      "5   bcc19451-48f0-4753-b2ad-f87720ea8570  Old Seas / Young Mountains  0.975455\n",
      "6   44f979db-4415-46c2-94ee-217427cf5e36                     Soonago  0.975455\n",
      "7   f6819f90-9a94-4cf2-a8a5-638135b23780                  Satellites  0.975455\n",
      "8   38a689b1-31ba-4d2e-b314-c62f7a7f4f85            Six Days of Calm  0.975455\n",
      "9   d3b97060-f1c6-4d92-a1e9-46f1b8a50a80            Catch The Breeze  0.975455\n",
      "10  defbcce5-e467-4d4e-99f0-91624086b340                 Lala Salama  0.975455\n",
      "11  c5bc7f50-fabb-4072-acbc-f3bbcf241252                     Requiem  0.975455\n",
      "12  dd4c0429-7595-4b42-9713-5d3916a6209f                    JuffBass  0.975455\n",
      "13  6be32a78-3af0-40b3-86fd-1b0eb3c24a21                     Mittere  0.975455\n",
      "14  d85d2ac5-5fdd-4390-aa8e-f1e5cc1ddcc6             Still Mountains  0.975455\n",
      "15  6bd75e2b-7ac1-4b86-b7e5-7101cd9bf8f0                  After-Math  0.975455\n",
      "16  9be04e00-1e46-4a68-9a37-bd6d96bc798c                   Noir Reva  0.975455\n",
      "17  2ce3ee6a-6ecb-477a-8978-137920d42834                    Uniforms  0.975455\n",
      "18  fa2831e3-8319-451f-b4f6-612d03d57089               Under Islands  0.975455\n",
      "19  8cc159d2-524b-4c52-9f0b-ee0de2d02378             Minor Movements  0.975453\n"
     ]
    }
   ],
   "source": [
    "import os\n",
    "import pandas as pd\n",
    "import numpy as np\n",
    "import json\n",
    "\n",
    "# Import our model functions from the provided module.\n",
    "# Make sure that the project root is in PYTHONPATH.\n",
    "import listenbrainz_model as lb\n",
    "\n",
    "# Define the working directory (adjust if needed)\n",
    "working_root = \"/mnt/j/MusicBrainz/working\"\n",
    "\n",
    "# Step 1: Load the data matrix\n",
    "data_matrix_path = os.path.join(working_root, \"userid-artist-counts.csv\")\n",
    "matrix_artists, matrix_users, plays = lb.load_data_matrix(data_matrix_path)\n",
    "print(f\"Data matrix shape: {plays.shape}\")\n",
    "\n",
    "# Step 2: Build the ALS model\n",
    "model = lb.build_model(plays)\n",
    "print(\"Model training complete!\")\n",
    "\n",
    "# Step 3: Load the artist mapping.\n",
    "# Option 1: Use our JSON file created earlier\n",
    "artist_map_path = os.path.join(working_root, \"artist_mapping.json\")\n",
    "with open(artist_map_path, \"r\", encoding=\"utf-8\") as f:\n",
    "    artist_mapping = json.load(f)\n",
    "\n",
    "# Option 2: Use the provided get_artist_map function if using the MusicBrainz CSV directly:\n",
    "# musicbrainz_artist_csv = \"/mnt/j/MusicBrainz/musicbrainz_artist.csv\"\n",
    "# artist_mapping = lb.get_artist_map(musicbrainz_artist_csv)\n",
    "\n",
    "# Step 4: Query the model for similar artists.\n",
    "# For demonstration, we select an artist from the matrix.\n",
    "# We'll choose the first artist from matrix_artists (you can choose a different one if desired)\n",
    "target_artist_mbid = matrix_artists[0]\n",
    "print(f\"Using target artist MBID: {target_artist_mbid}\")\n",
    "\n",
    "# Find the index of the target artist\n",
    "try:\n",
    "    target_index = lb.artist_index(matrix_artists, target_artist_mbid)\n",
    "except ValueError as e:\n",
    "    print(f\"Error: {e}\")\n",
    "    target_index = None\n",
    "\n",
    "if target_index is not None:\n",
    "    # Retrieve similar items from the model\n",
    "    similar_ids, scores = model.similar_items(target_index, N=20)\n",
    "    \n",
    "    # Prepare a DataFrame with MBIDs, names, and similarity scores\n",
    "    similar_artists = []\n",
    "    for idx, score in zip(similar_ids, scores):\n",
    "        mbid = matrix_artists[idx]\n",
    "        name = artist_mapping.get(mbid, \"unknown\")\n",
    "        similar_artists.append((mbid, name, score))\n",
    "    \n",
    "    df_similar = pd.DataFrame(similar_artists, columns=[\"Artist MBID\", \"Artist Name\", \"Score\"])\n",
    "    print(df_similar)\n"
   ]
  },
  {
   "cell_type": "markdown",
   "metadata": {},
   "source": [
    "## Model Building with `listenbrainz_model.py`\n",
    "\n",
    "We leveraged the provided `listenbrainz_model.py` module to build and query our collaborative filtering model. The key steps in this process were as follows:\n",
    "\n",
    "1. **Loading the Data Matrix**\n",
    "   - **Function Used:** `load_data_matrix(user_artist_counts_path)`\n",
    "   - **Process:**  \n",
    "     - The aggregated CSV file (`userid-artist-counts.csv`), which contains user IDs, artist MBIDs, and play counts, is loaded using Pandas.\n",
    "     - The `user` and `artist` columns are treated as categorical data, and their codes are used to construct a sparse matrix (using SciPy's `coo_matrix`), representing the number of listens per user-artist pair.\n",
    "   - **Output:**  \n",
    "     - `matrix_artists`: An array (Pandas Categorical) containing artist MBIDs.\n",
    "     - `matrix_users`: An array containing user IDs.\n",
    "     - `plays`: A sparse matrix of shape *(num_users, num_artists)* holding the listen counts.\n",
    "\n",
    "2. **Training the ALS Model**\n",
    "   - **Function Used:** `build_model(plays)`\n",
    "   - **Process:**  \n",
    "     - BM25 weighting is applied to the sparse matrix to adjust the raw play counts, reducing the influence of extremely popular items and over-active users.\n",
    "     - The Alternating Least Squares (ALS) model from the Implicit library is then initialized with parameters (e.g., 64 latent factors, regularization of 0.05, and an alpha of 2.0) and trained on the weighted matrix.\n",
    "   - **Output:**  \n",
    "     A trained ALS model that can be used to compute similarities between items (artists).\n",
    "\n",
    "3. **Loading the Artist Mapping**\n",
    "   - **Function Used:** `get_artist_map(musicbrainz_artist_path)`  \n",
    "     *(Alternatively, a JSON mapping file generated from the `musicbrainz_artist.csv` file is used.)*\n",
    "   - **Process:**  \n",
    "     - The mapping file provides a dictionary that links each artist MBID to its textual name.\n",
    "     - This mapping is critical for converting the model’s internal recommendations (which use MBIDs) into human-readable artist names.\n",
    "   - **Output:**  \n",
    "     A dictionary mapping artist MBIDs to their names.\n",
    "\n",
    "4. **Querying the Model for Similar Artists**\n",
    "   - **Function Used:** `artist_index(artists, artist_mbid)` along with the model's `similar_items` method.\n",
    "   - **Process:**  \n",
    "     - First, we identify the index of a target artist in the `matrix_artists` array using `artist_index()`.\n",
    "     - Next, we call the model's `similar_items` method with the target artist’s index to obtain a list of similar artist indices and their corresponding similarity scores.\n",
    "     - Finally, we convert these indices back to artist MBIDs and use the artist mapping to display the artist names.\n",
    "   - **Output:**  \n",
    "     A list (displayed as a Pandas DataFrame) of similar artists, showing each artist's MBID, name, and similarity score.\n",
    "\n",
    "This structured process—from data matrix creation to model training and querying—forms the backbone of our collaborative filtering system. It allows us to generate artist recommendations based on implicit listening behavior, while also providing human-readable outputs for evaluation and analysis.\n"
   ]
  }
 ],
 "metadata": {
  "kernelspec": {
   "display_name": "listenbrainz_env",
   "language": "python",
   "name": "python3"
  },
  "language_info": {
   "codemirror_mode": {
    "name": "ipython",
    "version": 3
   },
   "file_extension": ".py",
   "mimetype": "text/x-python",
   "name": "python",
   "nbconvert_exporter": "python",
   "pygments_lexer": "ipython3",
   "version": "3.10.16"
  }
 },
 "nbformat": 4,
 "nbformat_minor": 2
}
