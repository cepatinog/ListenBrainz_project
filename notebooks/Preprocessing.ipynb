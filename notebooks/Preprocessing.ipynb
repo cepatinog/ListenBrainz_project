{
 "cells": [
  {
   "cell_type": "markdown",
   "metadata": {},
   "source": [
    "# Data Preprocessing Documentation\n",
    "\n",
    "## Overview\n",
    "\n",
    "This notebook documents the preprocessing steps we have completed so far for the ListenBrainz collaborative filtering project. Our objective is to convert the ListenBrainz data dump into a format that can be used to build a user–artist listen count matrix. \n",
    "\n",
    "So far, we have completed the following steps:\n",
    "\n",
    "1. **Extracting Listen Events:**\n",
    "   - **Task:**  \n",
    "     Read the ListenBrainz JSON Lines file and extract the `user_id` and `recording_msid` fields.\n",
    "   - **Process:**\n",
    "     - We decompressed the raw file (e.g., `1.listens.zst`) using a utility function (`decompress_if_needed`) that handles `.zst` files.\n",
    "     - We streamed through the JSON Lines file line-by-line, extracted the required fields, and wrote them to a CSV file named `userid-msid.csv`.\n",
    "   - **Result:**  \n",
    "     The file `userid-msid.csv` contains records in the following format:\n",
    "     ```\n",
    "     user_id,recording_msid\n",
    "     24848,92fc76b4-bda0-4c2c-82b9-1ef4d489c071\n",
    "     24076,002091de-47f9-49d0-8da9-9af50e28f06e\n",
    "     22845,a6877bfb-0256-4471-82ad-2e60a78329c7\n",
    "     2966,1f1eae6d-e858-4236-9ffa-f4c8bb15d9c5\n",
    "     ```\n",
    "\n",
    "2. **Filtering the ListenBrainz MSID Mapping File:**\n",
    "   - **Task:**  \n",
    "     Map the MessyBrainz IDs (MSIDs) in our `userid-msid.csv` file to canonical MusicBrainz Recording IDs (MBIDs) using the large MSID mapping file.\n",
    "   - **Process:**\n",
    "     - We first extracted all unique MSIDs from `userid-msid.csv`.\n",
    "     - We then processed the large mapping file (`listenbrainz_msid_mapping.csv-003.zst`) line-by-line (using a progress bar via `tqdm` for visibility) to filter out only the rows where:\n",
    "       - The `recording_msid` is present in our unique MSID set.\n",
    "       - The `match_type` column has acceptable values (we chose `\"exact_match\"` and `\"high_quality\"`).\n",
    "     - We adjusted our code to use the correct column names from the mapping file: `recording_msid`, `recording_mbid`, and `match_type`.\n",
    "     - To maintain clean and modular code, we factored out common functions (like `decompress_if_needed`) into a shared utility module (`src/utils/file_utils.py`).\n",
    "   - **Result:**  \n",
    "     The filtered mapping file (`small_msid_mapping.csv`) was created and now contains only the rows relevant for our processing. This file is much smaller and can be loaded into memory for subsequent processing steps.\n",
    "\n",
    "      ```\n",
    "      Loaded 3013073 unique MSIDs from /mnt/j/MusicBrainz/working/userid-msid.csv\n",
    "      Filtering mapping file: 111339169it [05:39, 328388.01it/s]\n",
    "      Processed 111339169 rows from /mnt/j/MusicBrainz/listenbrainz_msid_mapping.csv-003\n",
    "      Kept 1874637 rows in the filtered mapping file: /mnt/j/MusicBrainz/working/small_msid_mapping.csv\n",
    "      ```\n",
    "\n",
    "## Code Modules and Structure\n",
    "\n",
    "- **Extraction Module:**  \n",
    "  - `src/preprocessing/extract_listens.py`  \n",
    "    Contains code to read and inspect the JSON Lines file and extract `user_id` and `recording_msid` values to `userid-msid.csv`.\n",
    "\n",
    "- **Filtering Module:**  \n",
    "  - `src/preprocessing/filter_mapping.py`  \n",
    "    Uses the unique MSIDs from `userid-msid.csv` to filter the large mapping file. The acceptable match types are set to `\"exact_match\"` and `\"high_quality\"`. The resulting file is `small_msid_mapping.csv`.\n",
    "\n",
    "- **Shared Utilities:**  \n",
    "  - `src/utils/file_utils.py`  \n",
    "    Contains helper functions such as `decompress_if_needed` to manage file decompression across modules.\n"
   ]
  },
  {
   "cell_type": "markdown",
   "metadata": {},
   "source": [
    "# ListenBrainz Data Preprocessing Documentation\n",
    "\n",
    "This notebook documents the preprocessing steps performed for the ListenBrainz collaborative filtering project. It includes code to:\n",
    "1. Extract listen events from the raw JSON Lines file.\n",
    "2. Filter the large MSID mapping file to obtain a smaller, relevant mapping.\n",
    "3. Canonicalize the mapping and extract artist information to create a user–artist mapping.\n",
    "\n",
    "Each step is executed via Python scripts located in the `src/preprocessing/` directory. The outputs are stored on our external drive (mounted under `/mnt/j/MusicBrainz/`).\n",
    "\n",
    "Let's begin!\n"
   ]
  },
  {
   "cell_type": "markdown",
   "metadata": {},
   "source": [
    "## Step 1: Extract Listen Events\n",
    "\n",
    "In this step, we run the extraction script to read the raw ListenBrainz JSON Lines file and extract the `user_id` and `recording_msid` fields. The output is saved as `userid-msid.csv` in our working directory.\n"
   ]
  },
  {
   "cell_type": "code",
   "execution_count": null,
   "metadata": {},
   "outputs": [],
   "source": [
    "#!python src/preprocessing/extract_listens.py /mnt/j/MusicBrainz/1.listens.zst /mnt/j/MusicBrainz/working/userid-msid.csv"
   ]
  },
  {
   "cell_type": "markdown",
   "metadata": {},
   "source": [
    "## Step 2: Filter the MSID Mapping File\n",
    "\n",
    "Next, we filter the large ListenBrainz MSID mapping file using our extracted `userid-msid.csv`. We retain only rows where the `recording_msid` is present in our file and the `match_type` is either `exact_match` or `high_quality`. The filtered file is saved as `small_msid_mapping.csv`.\n"
   ]
  },
  {
   "cell_type": "code",
   "execution_count": 3,
   "metadata": {},
   "outputs": [
    {
     "name": "stdout",
     "output_type": "stream",
     "text": [
      "First 20 lines of the mapping file:\n",
      "\n",
      "recording_msid,recording_mbid,match_type\n",
      "13ca445f-c0dd-4f64-8726-7da78a3821aa,,no_match\n",
      "54a40ef8-6bfe-4803-b74a-7b93885c2f01,,no_match\n",
      "21c07966-97c6-4e02-a575-e1b2fadf0d34,,no_match\n",
      "3b438b25-b9ad-480f-b248-bd06281919e0,,no_match\n",
      "26d8cc2b-c249-4b70-9f16-4eea1419303c,,no_match\n",
      "bf3fe1e0-7ae6-4e57-a38e-6ac7d42d33c3,,no_match\n",
      "937d9d97-ba8b-4ff4-9af7-1b4a485945c1,,no_match\n",
      "0e9230f2-1d9d-47ab-a44f-dbc788cfbdf1,,no_match\n",
      "2c9111a7-96e6-4083-8b45-78cadb11796e,,no_match\n",
      "012868b2-f6d7-40e6-80a4-d89d077e3d9e,,no_match\n",
      "03feccff-3632-4acf-974b-b787ff7e9bbf,,no_match\n",
      "364902a8-1067-4804-b8be-d6b801ee4179,,no_match\n",
      "13a44caa-8109-46ef-ac25-0e89785bdd18,,no_match\n",
      "273849c3-b1d7-4656-bf67-748c6cac2179,,no_match\n",
      "da3aea98-c857-4eb7-b4d6-cce8aa0318d7,,no_match\n",
      "c514427c-89e1-4746-86bb-49f5d5c8e04a,,no_match\n",
      "67c2a304-1ff5-44ea-a076-9d797ba15c28,,no_match\n",
      "127b9ad4-20d6-49e0-ab82-5aad8d27b5e1,,no_match\n",
      "703adaef-f000-4e6c-bd96-6c9c299af991,,no_match\n"
     ]
    }
   ],
   "source": [
    "# Inspect the first 20 lines of the mapping file.\n",
    "mapping_file = \"/mnt/j/MusicBrainz/listenbrainz_msid_mapping.csv-003\"\n",
    "\n",
    "print(\"First 20 lines of the mapping file:\\n\")\n",
    "with open(mapping_file, \"r\", encoding=\"utf-8\", errors=\"replace\") as f:\n",
    "    for i in range(20):\n",
    "        line = f.readline().strip()\n",
    "        print(line)\n"
   ]
  },
  {
   "cell_type": "code",
   "execution_count": 4,
   "metadata": {},
   "outputs": [],
   "source": [
    "#!python src/preprocessing/filter_mapping.py /mnt/j/MusicBrainz/working/userid-msid.csv /mnt/j/MusicBrainz/listenbrainz_msid_mapping.csv-003.zst /mnt/j/MusicBrainz/working/small_msid_mapping.csv\n"
   ]
  },
  {
   "cell_type": "markdown",
   "metadata": {},
   "source": [
    "## Step 3: Canonicalize and Extract Artist Information\n",
    "\n",
    "In this step, we combine our user–MSID data with the filtered mapping to obtain user–MBID pairs. Then we apply canonical redirect mapping and look up canonical metadata to extract artist information. For simplicity, we extract only the first artist in the artist credit. The final output is a CSV file (`userid-artist.csv`) mapping user IDs to artist IDs.\n"
   ]
  },
  {
   "cell_type": "code",
   "execution_count": 8,
   "metadata": {},
   "outputs": [
    {
     "name": "stdout",
     "output_type": "stream",
     "text": [
      "recording_mbid,canonical_recording_mbid,canonical_release_mbid\n",
      "f3f8a7b8-a376-450c-8139-934d2393d49a,ecb125d7-d23e-4d76-8282-745713563110,ffb4aba3-8aa4-479d-9a62-1bbe881804b8\n",
      "a20f4c73-1f7a-48e7-903b-a34721c13629,ecb125d7-d23e-4d76-8282-745713563110,ffb4aba3-8aa4-479d-9a62-1bbe881804b8\n",
      "17344c3d-d600-4bb8-ac2d-93cab18ced4e,ecb125d7-d23e-4d76-8282-745713563110,ffb4aba3-8aa4-479d-9a62-1bbe881804b8\n",
      "7bf54872-7e1b-450c-9af4-385bcba33b78,ecb125d7-d23e-4d76-8282-745713563110,ffb4aba3-8aa4-479d-9a62-1bbe881804b8\n",
      "910f5db3-9a25-44ba-8f07-9956123c8e00,ecb125d7-d23e-4d76-8282-745713563110,ffb4aba3-8aa4-479d-9a62-1bbe881804b8\n",
      "354a700b-0cf8-428a-b486-6474cde76277,ecb125d7-d23e-4d76-8282-745713563110,ffb4aba3-8aa4-479d-9a62-1bbe881804b8\n",
      "7e6539ce-bc87-4a12-b133-ab9cc8bffb6d,ecb125d7-d23e-4d76-8282-745713563110,ffb4aba3-8aa4-479d-9a62-1bbe881804b8\n",
      "6282a948-8a9e-4f40-8aa8-9b7352f45181,ecb125d7-d23e-4d76-8282-745713563110,ffb4aba3-8aa4-479d-9a62-1bbe881804b8\n",
      "7300fa87-9740-401f-b53d-7768d687897b,ecb125d7-d23e-4d76-8282-745713563110,ffb4aba3-8aa4-479d-9a62-1bbe881804b8\n",
      "f687a6b6-31ab-4d6c-87b6-f249505c5907,ecb125d7-d23e-4d76-8282-745713563110,ffb4aba3-8aa4-479d-9a62-1bbe881804b8\n",
      "6bf475e0-8c88-4652-8e39-54564ad833b7,ecb125d7-d23e-4d76-8282-745713563110,ffb4aba3-8aa4-479d-9a62-1bbe881804b8\n",
      "9042fca3-7322-45d4-a445-f70bc8a1813e,ecb125d7-d23e-4d76-8282-745713563110,ffb4aba3-8aa4-479d-9a62-1bbe881804b8\n",
      "4eb4b230-525f-41ed-ad5a-ff4abe739634,ecb125d7-d23e-4d76-8282-745713563110,ffb4aba3-8aa4-479d-9a62-1bbe881804b8\n",
      "1fa63436-067d-4a2e-bfa2-f56a8ec62811,ecb125d7-d23e-4d76-8282-745713563110,ffb4aba3-8aa4-479d-9a62-1bbe881804b8\n",
      "bb20074b-db6f-4bc3-95d6-8c6861699708,ecb125d7-d23e-4d76-8282-745713563110,ffb4aba3-8aa4-479d-9a62-1bbe881804b8\n",
      "787b14b4-2fab-4f85-a26a-ecde617e4e68,ecb125d7-d23e-4d76-8282-745713563110,ffb4aba3-8aa4-479d-9a62-1bbe881804b8\n",
      "e04aedd6-a06e-4b79-ab7e-55342b444ac5,ecb125d7-d23e-4d76-8282-745713563110,ffb4aba3-8aa4-479d-9a62-1bbe881804b8\n",
      "c970af2f-8478-48e2-b424-631c8f07aff7,ecb125d7-d23e-4d76-8282-745713563110,ffb4aba3-8aa4-479d-9a62-1bbe881804b8\n",
      "39054ad7-a36c-457f-a01f-31147639b3f3,ecb125d7-d23e-4d76-8282-745713563110,ffb4aba3-8aa4-479d-9a62-1bbe881804b8\n"
     ]
    }
   ],
   "source": [
    "!head -n 20 /mnt/j/MusicBrainz/canonical_recording_redirect.csv\n"
   ]
  },
  {
   "cell_type": "code",
   "execution_count": 9,
   "metadata": {},
   "outputs": [
    {
     "name": "stdout",
     "output_type": "stream",
     "text": [
      "id,artist_credit_id,artist_mbids,artist_credit_name,release_mbid,release_name,recording_mbid,recording_name,combined_lookup,score\n",
      "1,1,89ad4ac3-39f7-470e-963a-56509c546377,Various Artists,4fd4f7ee-cee8-47fd-84d2-8d65e74bd8f7,Nadal en galego,00b1a29d-ad9e-4b64-aed6-281f69f628ae,Catro Mancebos,variousartistscatromancebos,91870\n",
      "2,1,89ad4ac3-39f7-470e-963a-56509c546377,Various Artists,4fd4f7ee-cee8-47fd-84d2-8d65e74bd8f7,Nadal en galego,0aeea6af-3f85-45f3-88ed-8ce2bdedc4c6,Con Un Sombreiro de Palla,variousartistsconunsombreirodepalla,91870\n",
      "3,1,89ad4ac3-39f7-470e-963a-56509c546377,Various Artists,4fd4f7ee-cee8-47fd-84d2-8d65e74bd8f7,Nadal en galego,24f32cf2-127e-45ca-ad19-91ed3ec87409,Nadais de Xanceda,variousartistsnadaisdexanceda,91870\n",
      "4,1,89ad4ac3-39f7-470e-963a-56509c546377,Various Artists,4fd4f7ee-cee8-47fd-84d2-8d65e74bd8f7,Nadal en galego,28e2548b-9c6f-47b7-8ab5-b1735499f291,De Lejos Venimos,variousartistsdelejosvenimos,91870\n",
      "5,1,89ad4ac3-39f7-470e-963a-56509c546377,Various Artists,4fd4f7ee-cee8-47fd-84d2-8d65e74bd8f7,Nadal en galego,390a9ab5-89c6-4e25-8ebf-f16a39c8c9cb,As Madamas,variousartistsasmadamas,91870\n",
      "6,1,89ad4ac3-39f7-470e-963a-56509c546377,Various Artists,4fd4f7ee-cee8-47fd-84d2-8d65e74bd8f7,Nadal en galego,432f8d28-2816-41a3-bd0b-7901e792fc2f,Se Dan o Fumeiro,variousartistssedanofumeiro,91870\n",
      "7,1,89ad4ac3-39f7-470e-963a-56509c546377,Various Artists,4fd4f7ee-cee8-47fd-84d2-8d65e74bd8f7,Nadal en galego,47c501c0-89c5-434a-9084-3ff590744537,Vinde Ver o Neno,variousartistsvindeveroneno,91870\n",
      "8,1,89ad4ac3-39f7-470e-963a-56509c546377,Various Artists,4fd4f7ee-cee8-47fd-84d2-8d65e74bd8f7,Nadal en galego,5010668f-e46e-4e8f-81f7-88e8316f21a2,Os da Manta,variousartistsosdamanta,91870\n",
      "9,1,89ad4ac3-39f7-470e-963a-56509c546377,Various Artists,4fd4f7ee-cee8-47fd-84d2-8d65e74bd8f7,Nadal en galego,5b10b7e3-4bc2-49c1-bcbc-ae46d324c158,Imos Logo,variousartistsimoslogo,91870\n",
      "10,1,89ad4ac3-39f7-470e-963a-56509c546377,Various Artists,4fd4f7ee-cee8-47fd-84d2-8d65e74bd8f7,Nadal en galego,6d1ed690-f164-4005-afca-bcbb463d1d14,Alo Entre as Pallas,variousartistsaloentreaspallas,91870\n",
      "11,1,89ad4ac3-39f7-470e-963a-56509c546377,Various Artists,4fd4f7ee-cee8-47fd-84d2-8d65e74bd8f7,Nadal en galego,730490d6-2395-42f0-b628-5754d2b2a8fb,\"Vamos, Vamos Rapacinos\",variousartistsvamosvamosrapacinos,91870\n",
      "12,1,89ad4ac3-39f7-470e-963a-56509c546377,Various Artists,4fd4f7ee-cee8-47fd-84d2-8d65e74bd8f7,Nadal en galego,81dc2605-2e70-4d42-83ec-64fbf209a792,O Carrapuchiño,variousartistsocarrapuchino,91870\n",
      "13,1,89ad4ac3-39f7-470e-963a-56509c546377,Various Artists,4fd4f7ee-cee8-47fd-84d2-8d65e74bd8f7,Nadal en galego,90d51e4f-c2d9-4ea2-98f6-8c398013f162,No Pendello,variousartistsnopendello,91870\n",
      "14,1,89ad4ac3-39f7-470e-963a-56509c546377,Various Artists,4fd4f7ee-cee8-47fd-84d2-8d65e74bd8f7,Nadal en galego,952d301e-641a-44af-bc18-e06c74c59336,Chorando Estas Mina Vida,variousartistschorandoestasminavida,91870\n",
      "15,1,89ad4ac3-39f7-470e-963a-56509c546377,Various Artists,4fd4f7ee-cee8-47fd-84d2-8d65e74bd8f7,Nadal en galego,961e985b-4fb7-4b8c-8324-be64e0c28cba,Vinde Galeguinos Vinde,variousartistsvindegaleguinosvinde,91870\n",
      "16,1,89ad4ac3-39f7-470e-963a-56509c546377,Various Artists,4fd4f7ee-cee8-47fd-84d2-8d65e74bd8f7,Nadal en galego,a38705ad-d217-41af-a20f-520f269449da,Guedellos de Cabra,variousartistsguedellosdecabra,91870\n",
      "17,1,89ad4ac3-39f7-470e-963a-56509c546377,Various Artists,4fd4f7ee-cee8-47fd-84d2-8d65e74bd8f7,Nadal en galego,ab7a2191-60fc-4920-855f-c99d935dac27,Eu Durmindo Estaba,variousartistseudurmindoestaba,91870\n",
      "18,1,89ad4ac3-39f7-470e-963a-56509c546377,Various Artists,4fd4f7ee-cee8-47fd-84d2-8d65e74bd8f7,Nadal en galego,acfbb4f3-8fab-4501-b542-1ac753a45523,Reises de Infiesta,variousartistsreisesdeinfiesta,91870\n",
      "19,1,89ad4ac3-39f7-470e-963a-56509c546377,Various Artists,4fd4f7ee-cee8-47fd-84d2-8d65e74bd8f7,Nadal en galego,b2f9b505-e27f-4cfa-b20a-8defa7d4f2f4,Alo a Media Noite,variousartistsaloamedianoite,91870\n"
     ]
    }
   ],
   "source": [
    "!head -n 20 /mnt/j/MusicBrainz/canonical_musicbrainz_data.csv\n"
   ]
  },
  {
   "cell_type": "code",
   "execution_count": 11,
   "metadata": {},
   "outputs": [
    {
     "name": "stdout",
     "output_type": "stream",
     "text": [
      "Loaded 8839350 user listening events from /mnt/j/MusicBrainz/working/userid-msid.csv\n",
      "Loaded 1874637 MSID-to-MBID mappings from /mnt/j/MusicBrainz/working/small_msid_mapping.csv\n",
      "Loaded 6968027 canonical redirects from /mnt/j/MusicBrainz/canonical_recording_redirect.csv\n",
      "Loaded artist metadata for 27070779 recordings from /mnt/j/MusicBrainz/canonical_musicbrainz_data.csv\n",
      "Processing user events: 100%|██████| 8839350/8839350 [01:31<00:00, 96509.83it/s]\n",
      "Processed 8839350 user events; converted 6089272 events to user-artist pairs.\n",
      "Output written to /mnt/j/MusicBrainz/working/userid-artist.csv\n"
     ]
    }
   ],
   "source": [
    "!python ../src/preprocessing/canonicalize.py /mnt/j/MusicBrainz/working/userid-msid.csv /mnt/j/MusicBrainz/working/small_msid_mapping.csv /mnt/j/MusicBrainz/canonical_recording_redirect.csv.zst /mnt/j/MusicBrainz/canonical_musicbrainz_data.csv.zst /mnt/j/MusicBrainz/working/userid-artist.csv\n"
   ]
  },
  {
   "cell_type": "markdown",
   "metadata": {},
   "source": [
    "## Verification and Inspection\n",
    "\n",
    "After each step, we verify the output files to ensure correctness. For example, we can view the first few lines of the `userid-artist.csv` to check that user IDs have been correctly mapped to artist IDs.\n"
   ]
  },
  {
   "cell_type": "code",
   "execution_count": 12,
   "metadata": {},
   "outputs": [
    {
     "name": "stdout",
     "output_type": "stream",
     "text": [
      "user_id,artist_id\n",
      "24076,29266b3d-b5ae-4d09-b721-326246adf68f\n",
      "22845,744b52c8-509b-4451-abfd-a17d18d4bd1d\n",
      "2966,b7539c32-53e7-4908-bda3-81449c367da6\n",
      "31175,875203e1-8e58-4b86-8dcb-7190faf411c5\n",
      "4942,84825fb6-c98c-4b43-a184-c7f70619f355\n",
      "27911,f3e2a7d9-c6bb-4848-95e5-04c0a1e2f511\n",
      "27045,aa7a2827-f74b-473c-bd79-03d065835cf7\n",
      "34783,3eadae13-fc37-4c6a-ab0c-d23702e9b455\n",
      "16639,dfa715ac-b536-44df-af43-570d3ea3edec\n"
     ]
    }
   ],
   "source": [
    "!head -n 10 /mnt/j/MusicBrainz/working/userid-artist.csv\n"
   ]
  },
  {
   "cell_type": "markdown",
   "metadata": {},
   "source": [
    "## Step 4: Aggregate Listen Counts\n",
    "\n",
    "In this step, we aggregate the user-artist events from `userid-artist.csv` into listen counts. The resulting file, `userid-artist-counts.csv`, contains three columns: `user_id`, `artist_id`, and `listen_count`.\n"
   ]
  },
  {
   "cell_type": "code",
   "execution_count": 13,
   "metadata": {},
   "outputs": [
    {
     "name": "stdout",
     "output_type": "stream",
     "text": [
      "Aggregated counts written to /mnt/j/MusicBrainz/working/userid-artist-counts.csv\n"
     ]
    }
   ],
   "source": [
    "!python ../src/preprocessing/aggregate_counts.py /mnt/j/MusicBrainz/working/userid-artist.csv /mnt/j/MusicBrainz/working/userid-artist-counts.csv\n"
   ]
  },
  {
   "cell_type": "markdown",
   "metadata": {},
   "source": [
    "## Verification"
   ]
  },
  {
   "cell_type": "code",
   "execution_count": 14,
   "metadata": {},
   "outputs": [
    {
     "name": "stdout",
     "output_type": "stream",
     "text": [
      "user_id,artist_id,listen_count\n",
      "24076,29266b3d-b5ae-4d09-b721-326246adf68f,36\n",
      "22845,744b52c8-509b-4451-abfd-a17d18d4bd1d,2\n",
      "2966,b7539c32-53e7-4908-bda3-81449c367da6,64\n",
      "31175,875203e1-8e58-4b86-8dcb-7190faf411c5,2\n",
      "4942,84825fb6-c98c-4b43-a184-c7f70619f355,11\n",
      "27911,f3e2a7d9-c6bb-4848-95e5-04c0a1e2f511,1\n",
      "27045,aa7a2827-f74b-473c-bd79-03d065835cf7,2\n",
      "34783,3eadae13-fc37-4c6a-ab0c-d23702e9b455,1\n",
      "16639,dfa715ac-b536-44df-af43-570d3ea3edec,114\n"
     ]
    }
   ],
   "source": [
    "!head -n 10 /mnt/j/MusicBrainz/working/userid-artist-counts.csv\n"
   ]
  },
  {
   "cell_type": "markdown",
   "metadata": {},
   "source": [
    "## Step 5: Build the Artist Mapping\n",
    "\n",
    "In this step, we process the `musicbrainz_artist.csv` file to create a dictionary mapping each artist's MBID to their textual name. This mapping will be saved as a JSON file (`artist_mapping.json`) and will be used later to display human-readable artist names in our recommendation results.\n"
   ]
  },
  {
   "cell_type": "code",
   "execution_count": 15,
   "metadata": {},
   "outputs": [
    {
     "name": "stdout",
     "output_type": "stream",
     "text": [
      "Built mapping for 2531408 artists.\n",
      "Mapping saved to /mnt/j/MusicBrainz/working/artist_mapping.json\n"
     ]
    }
   ],
   "source": [
    "!python ../src/preprocessing/artist_mapping.py /mnt/j/MusicBrainz/musicbrainz_artist.csv /mnt/j/MusicBrainz/working/artist_mapping.json\n"
   ]
  },
  {
   "cell_type": "markdown",
   "metadata": {},
   "source": [
    "## Verification"
   ]
  },
  {
   "cell_type": "code",
   "execution_count": 16,
   "metadata": {},
   "outputs": [
    {
     "name": "stdout",
     "output_type": "stream",
     "text": [
      "{\n",
      "  \"fadeb38c-833f-40bc-9d8c-a6383b38b1be\": \"Доктор Сатана\",\n",
      "  \"49add228-eac5-4de8-836c-d75cde7369c3\": \"Pete Moutso\",\n",
      "  \"165a49a0-2b3b-4078-a3c1-905afdc07c0a\": \"Babyglock\",\n",
      "  \"7b4a548e-a01a-49b7-82e7-b49efeb9732c\": \"Aric Leavitt\",\n",
      "  \"60aca66f-e91a-4cb5-9308-b6e293cd833e\": \"Fonograff\",\n",
      "  \"3e1bd546-d2a7-49cb-b38d-d70904a1d719\": \"Al Street\",\n",
      "  \"df120895-f6c6-4a66-b9cf-73350f0beb61\": \"Love .45\",\n",
      "  \"c14f8d3f-ee81-416f-800f-8eff7e77a2e1\": \"Sintellect\",\n",
      "  \"b68a3969-319a-462f-942b-cd35581414fc\": \"Evie Tamala\",\n",
      "  \"2c8ae2e0-3934-440e-81f5-2ec7fd0d7899\": \"Jean-Pierre Martin\",\n",
      "  \"ac63d693-7b24-4258-a3db-09743b1b4269\": \"Deejay One\",\n",
      "  \"4c4b7c6f-9285-4d6a-bc10-e5c9e08045f8\": \"wecamewithbrokenteeth\",\n",
      "  \"055f435f-dba6-4156-9050-6ac41113e45f\": \"The Blackbelt Band\",\n",
      "  \"ab1b631b-9896-4433-bef9-7868bf8a42f3\": \"Giant Tomo\",\n",
      "  \"66de1369-f9eb-43cb-ae4f-88582a47a624\": \"Elvin Jones & Jimmy Garrison Sextet\",\n",
      "  \"1fbb9556-b647-498a-a8ed-d3b5e8d7f85c\": \"Tobias Lorsbach\",\n",
      "  \"e6895f6e-f636-4ff6-b406-f5ddaf6cb243\": \"Diskobitch\",\n",
      "  \"4eee2c60-c2c8-4b33-b14f-0eed4bf4d11a\": \"Seanews\",\n",
      "  \"302d69b6-4ed9-48ec-b6dd-1c70e765b327\": \"CyberDog\",\n"
     ]
    }
   ],
   "source": [
    "!head -n 20 /mnt/j/MusicBrainz/working/artist_mapping.json\n"
   ]
  },
  {
   "cell_type": "markdown",
   "metadata": {},
   "source": [
    "## Summary\n",
    "\n",
    "This notebook has documented and executed the following preprocessing steps:\n",
    "- Extraction of listen events from JSON Lines data.\n",
    "- Filtering the MSID mapping file based on quality criteria.\n",
    "- Canonicalizing the MBIDs and extracting artist information to form the user–artist matrix.\n",
    "\n",
    "These steps have been performed using modular scripts in the `src/preprocessing/` directory and are fully reproducible. Future steps will involve building the collaborative filtering model using the aggregated user–artist data.\n",
    "\n",
    "Please refer to the final report for an in-depth discussion and analysis of the results.\n"
   ]
  }
 ],
 "metadata": {
  "kernelspec": {
   "display_name": "listenbrainz_env",
   "language": "python",
   "name": "python3"
  },
  "language_info": {
   "codemirror_mode": {
    "name": "ipython",
    "version": 3
   },
   "file_extension": ".py",
   "mimetype": "text/x-python",
   "name": "python",
   "nbconvert_exporter": "python",
   "pygments_lexer": "ipython3",
   "version": "3.10.16"
  }
 },
 "nbformat": 4,
 "nbformat_minor": 2
}
