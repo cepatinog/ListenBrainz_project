{
 "cells": [
  {
   "cell_type": "markdown",
   "metadata": {},
   "source": [
    "## Recommending Similar Items\n",
    "\n",
    "In this phase, we used our trained collaborative filtering model (built with the Implicit library's ALS algorithm) to identify similar artists based on user listening data. The key steps and observations are summarized below:\n",
    "\n",
    "1. **Extracting Similar Items Using the ALS Model:**\n",
    "   - We loaded our aggregated user–artist counts (from `userid-artist-counts.csv`) and converted them into a sparse matrix.\n",
    "   - The ALS model was trained on the BM25-weighted matrix, effectively learning latent factors that represent user preferences and artist characteristics.\n",
    "   - Using the `similar_items` method of the model, we retrieved a set of artist indices that are most similar to a given target artist (e.g., \"The Clash\").\n",
    "\n",
    "2. **Mapping to Human-Readable Names:**\n",
    "   - The internal model outputs artist identifiers (MBIDs). We used our artist mapping (created from `musicbrainz_artist.csv` or stored in `artist_mapping.json`) to convert these MBIDs into human-readable artist names.\n",
    "   - This allowed us to present the recommendations in a clear, interpretable table with columns for Artist MBID, Artist Name, and Similarity Score.\n",
    "\n",
    "3. **Example Output:**\n",
    "   - For example, querying the model for similar items to a target artist produced recommendations such as:\n",
    "     - **The Beatles** (similarity score: 1.000000)\n",
    "     - **John Lennon** (similarity score: 0.902621)\n",
    "     - **The Rolling Stones** (similarity score: 0.871904)\n",
    "   - These recommendations reflect intuitive musical relationships and shared listener interests.\n",
    "\n",
    "4. **External Comparison:**\n",
    "   - We compared our model's recommendations with those available from external services like Spotify and Last.fm.\n",
    "   - While many recommendations aligned (e.g., similar genres or shared fan bases), some differences were observed. These differences may be attributed to:\n",
    "     - Variations in user demographics and listening behavior across datasets.\n",
    "     - The weighting scheme (BM25) and model parameters (e.g., number of latent factors, regularization) used in our ALS model.\n",
    "     - Potential biases in the ListenBrainz dataset (e.g., overrepresentation of certain genres or regions).\n",
    "\n",
    "5. **Data Model Analysis:**\n",
    "   - Our model was built using listening data from approximately *[insert number]* users.\n",
    "   - For context, the Last.fm 360K dataset contains around 359,347 unique users, which might provide a broader representation of listening habits.\n",
    "   - Although our dataset is smaller, the learned artist similarities have shown promising results. A larger dataset could further improve the representativeness and robustness of the recommendations.\n",
    "\n",
    "6. **Conclusion:**\n",
    "   - The \"recommending similar items\" functionality demonstrates that the ALS model effectively captures implicit relationships between artists based on user interactions.\n",
    "   - While our preliminary results are encouraging, further model tuning and cross-comparisons with external sources could help refine the recommendations and mitigate any biases present in the data.\n"
   ]
  },
  {
   "cell_type": "markdown",
   "metadata": {},
   "source": []
  }
 ],
 "metadata": {
  "kernelspec": {
   "display_name": "listenbrainz_env",
   "language": "python",
   "name": "python3"
  },
  "language_info": {
   "codemirror_mode": {
    "name": "ipython",
    "version": 3
   },
   "file_extension": ".py",
   "mimetype": "text/x-python",
   "name": "python",
   "nbconvert_exporter": "python",
   "pygments_lexer": "ipython3",
   "version": "3.10.16"
  }
 },
 "nbformat": 4,
 "nbformat_minor": 2
}
